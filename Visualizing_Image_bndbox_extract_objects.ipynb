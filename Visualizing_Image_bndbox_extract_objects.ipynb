{
  "nbformat": 4,
  "nbformat_minor": 0,
  "metadata": {
    "colab": {
      "name": "Visualizing_Image_bndbox_extract_objects.ipynb",
      "version": "0.3.2",
      "provenance": [],
      "include_colab_link": true
    },
    "kernelspec": {
      "name": "python3",
      "display_name": "Python 3"
    },
    "accelerator": "GPU"
  },
  "cells": [
    {
      "cell_type": "markdown",
      "metadata": {
        "id": "view-in-github",
        "colab_type": "text"
      },
      "source": [
        "<a href=\"https://colab.research.google.com/github/ummadiviany/MachineLearning/blob/master/Visualizing_Image_bndbox_extract_objects.ipynb\" target=\"_parent\"><img src=\"https://colab.research.google.com/assets/colab-badge.svg\" alt=\"Open In Colab\"/></a>"
      ]
    },
    {
      "cell_type": "code",
      "metadata": {
        "id": "n52o989Hhfyk",
        "colab_type": "code",
        "outputId": "53436ca4-fecb-4cd4-f7a3-b9abb1e9b291",
        "colab": {
          "base_uri": "https://localhost:8080/",
          "height": 34
        }
      },
      "source": [
        "from google.colab import drive\n",
        "drive.mount('/content/gdrive',force_remount=True)"
      ],
      "execution_count": 0,
      "outputs": [
        {
          "output_type": "stream",
          "text": [
            "Mounted at /content/gdrive\n"
          ],
          "name": "stdout"
        }
      ]
    },
    {
      "cell_type": "code",
      "metadata": {
        "id": "anjklYMbhtQU",
        "colab_type": "code",
        "colab": {}
      },
      "source": [
        "import pandas as pd\n",
        "df=pd.read_csv('/content/gdrive/My Drive/train/DJI_0058.csv')"
      ],
      "execution_count": 0,
      "outputs": []
    },
    {
      "cell_type": "code",
      "metadata": {
        "id": "KDyS-TMZhtXY",
        "colab_type": "code",
        "outputId": "d88898f7-e4fc-42d3-ffcd-45bb80e3a94b",
        "colab": {
          "base_uri": "https://localhost:8080/",
          "height": 121
        }
      },
      "source": [
        "print(df.head())"
      ],
      "execution_count": 0,
      "outputs": [
        {
          "output_type": "stream",
          "text": [
            "    x1   y1   x2   y2\n",
            "0  192    1  245   31\n",
            "1  195   39  248   76\n",
            "2  189  105  243  159\n",
            "3  204  167  245  199\n",
            "4  168  207  242  253\n"
          ],
          "name": "stdout"
        }
      ]
    },
    {
      "cell_type": "code",
      "metadata": {
        "id": "JmXRzXmohtd2",
        "colab_type": "code",
        "colab": {}
      },
      "source": [
        "import cv2\n",
        "from google.colab.patches import cv2_imshow"
      ],
      "execution_count": 0,
      "outputs": []
    },
    {
      "cell_type": "code",
      "metadata": {
        "id": "dDZE2kGshtg0",
        "colab_type": "code",
        "colab": {}
      },
      "source": [
        "img='/content/gdrive/My Drive/train/DJI_0015.JPG'\n",
        "img=cv2.imread(img)\n",
        "#cv2_imshow(img)"
      ],
      "execution_count": 0,
      "outputs": []
    },
    {
      "cell_type": "code",
      "metadata": {
        "id": "OmYHUwspnM2e",
        "colab_type": "code",
        "colab": {}
      },
      "source": [
        "j=0\n",
        "for i in range(len(df.index)-1):\n",
        "  x1=df.at[i,'x1']\n",
        "  y1=df.at[i,'y1']\n",
        "  x2=df.at[i,'x2']\n",
        "  y2=df.at[i,'y2']\n",
        "  img1=cv2.rectangle(img, (x1, y1), (x2, y2), (255,0,0), 2)\n",
        "  #corn = img[y1:y2, x1:x2]\n",
        "  #cv2.imwrite('/content/gdrive/My Drive/train/corn_images/'+str(j)+'.jpg',corn)\n",
        "  j+=1\n",
        "  "
      ],
      "execution_count": 0,
      "outputs": []
    },
    {
      "cell_type": "code",
      "metadata": {
        "id": "mu644Btfp-Ay",
        "colab_type": "code",
        "outputId": "d377a924-1285-4bc5-acbe-644ed6b2dc54",
        "colab": {
          "base_uri": "https://localhost:8080/",
          "height": 34
        }
      },
      "source": [
        "#cv2_imshow(img)\n",
        "cv2.imwrite('/content/gdrive/My Drive/train/visulalize58.jpg',img1)"
      ],
      "execution_count": 0,
      "outputs": [
        {
          "output_type": "execute_result",
          "data": {
            "text/plain": [
              "True"
            ]
          },
          "metadata": {
            "tags": []
          },
          "execution_count": 8
        }
      ]
    },
    {
      "cell_type": "code",
      "metadata": {
        "id": "fpbnphdmqEvS",
        "colab_type": "code",
        "colab": {}
      },
      "source": [
        ""
      ],
      "execution_count": 0,
      "outputs": []
    }
  ]
}