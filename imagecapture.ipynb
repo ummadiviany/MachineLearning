{
 "cells": [
  {
   "cell_type": "code",
   "execution_count": 14,
   "metadata": {},
   "outputs": [
    {
     "ename": "ModuleNotFoundError",
     "evalue": "No module named 'cv'",
     "output_type": "error",
     "traceback": [
      "\u001b[1;31m---------------------------------------------------------------------------\u001b[0m",
      "\u001b[1;31mModuleNotFoundError\u001b[0m                       Traceback (most recent call last)",
      "\u001b[1;32m<ipython-input-14-4cb97718efe7>\u001b[0m in \u001b[0;36m<module>\u001b[1;34m()\u001b[0m\n\u001b[0;32m      1\u001b[0m \u001b[1;32mimport\u001b[0m \u001b[0mcv2\u001b[0m\u001b[1;33m\u001b[0m\u001b[0m\n\u001b[1;32m----> 2\u001b[1;33m \u001b[1;32mimport\u001b[0m \u001b[0mcv\u001b[0m\u001b[1;33m\u001b[0m\u001b[0m\n\u001b[0m\u001b[0;32m      3\u001b[0m \u001b[1;31m#import cv2.cv as cv\u001b[0m\u001b[1;33m\u001b[0m\u001b[1;33m\u001b[0m\u001b[0m\n\u001b[0;32m      4\u001b[0m \u001b[1;33m\u001b[0m\u001b[0m\n\u001b[0;32m      5\u001b[0m \u001b[1;31m# Camera 0 is the integrated web cam on my netbook\u001b[0m\u001b[1;33m\u001b[0m\u001b[1;33m\u001b[0m\u001b[0m\n",
      "\u001b[1;31mModuleNotFoundError\u001b[0m: No module named 'cv'"
     ]
    }
   ],
   "source": [
    "import cv2\n",
    "import cv\n",
    "#import cv2.cv as cv\n",
    " \n",
    "# Camera 0 is the integrated web cam on my netbook\n",
    "camera_port = 1\n",
    " \n",
    "#Number of frames to throw away while the camera adjusts to light levels\n",
    "ramp_frames = 30\n",
    " \n",
    "# Now we can initialize the camera capture object with the cv2.VideoCapture class.\n",
    "# All it needs is the index to a camera port.\n",
    "camera = cv2.VideoCapture(camera_port)\n",
    "#camera.set(3, 800)\n",
    "#camera.set(4, 600)\n",
    "#camera.set(CV2_CAMERA_PROP_FRAME_WIDTH, 800)\n",
    "#camera.set(CV2_CAMERA_PROP_FRAME_HEIGHT, 600)\n",
    "camera.set(cv.CV_CAP_PROP_FRAME_WIDTH,640);\n",
    "camera.set(CV_CAP_PROP_FRAME_HEIGHT,480);\n",
    "# Captures a single image from the camera and returns it in PIL format\n",
    "def get_image():\n",
    " # read is the easiest way to get a full image out of a VideoCapture object.\n",
    "    \n",
    "    retval, im = camera.read()\n",
    "    return im\n",
    " \n",
    "# Ramp the camera - these frames will be discarded and are only used to allow v4l2\n",
    "# to adjust light levels, if necessary\n",
    "for i in range(ramp_frames):\n",
    " temp = get_image()\n",
    "print(\"Taking image...\")\n",
    "# Take the actual image we want to keep\n",
    "camera_capture = get_image()\n",
    "file = \"C:/Users/lenovo/Desktop/test_image1.png\"\n",
    "# A nice feature of the imwrite method is that it will automatically choose the\n",
    "# correct format based on the file extension you provide. Convenient!\n",
    "cv2.imwrite(file, camera_capture)\n",
    " \n",
    "# You'll want to release the camera, otherwise you won't be able to create a new\n",
    "# capture object until your script exits\n",
    "del(camera)"
   ]
  },
  {
   "cell_type": "code",
   "execution_count": null,
   "metadata": {},
   "outputs": [],
   "source": []
  }
 ],
 "metadata": {
  "kernelspec": {
   "display_name": "Python 3",
   "language": "python",
   "name": "python3"
  },
  "language_info": {
   "codemirror_mode": {
    "name": "ipython",
    "version": 3
   },
   "file_extension": ".py",
   "mimetype": "text/x-python",
   "name": "python",
   "nbconvert_exporter": "python",
   "pygments_lexer": "ipython3",
   "version": "3.7.0"
  }
 },
 "nbformat": 4,
 "nbformat_minor": 2
}
