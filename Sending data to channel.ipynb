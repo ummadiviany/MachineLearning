{
 "cells": [
  {
   "cell_type": "code",
   "execution_count": 32,
   "metadata": {},
   "outputs": [
    {
     "name": "stdout",
     "output_type": "stream",
     "text": [
      "Result:200\n"
     ]
    }
   ],
   "source": [
    "import urllib.request\n",
    "a=[10,20,30,40,50]\n",
    "a=\"from jupyter\"\n",
    "#weburl=urllib.request.urlopen('https://api.thingspeak.com/update?api_key=ZIYIRN27WE57DD0H&field1=10')\n",
    "#weburl=urllib.request.urlopen('https://api.thingspeak.com/update?api_key=ZIYIRN27WE57DD0H&field1=20')\n",
    "#weburl=urllib.request.urlopen('https://api.thingspeak.com/update?api_key=ZIYIRN27WE57DD0H&field1=30')\n",
    "#https://api.thingspeak.com/update?api_key=ZIYIRN27WE57DD0H&status='Automatic'\n",
    "#weburl=urllib.request.urlopen('https://api.thingspeak.com/update?api_key=ZIYIRN27WE57DD0H&status=[10,20,2]')\n",
    "#weburl=urllib.request.urlopen('https://api.thingspeak.com/update?api_key=ZIYIRN27WE57DD0H&status='from python'')\n",
    "url='https://api.thingspeak.com/update?api_key=ZIYIRN27WE57DD0H&status=a'\n",
    "weburl=urllib.request.urlopen(url)\n",
    "print('Result:'+str(weburl.getcode()))"
   ]
  },
  {
   "cell_type": "code",
   "execution_count": 33,
   "metadata": {},
   "outputs": [
    {
     "name": "stdout",
     "output_type": "stream",
     "text": [
      "b'32630'\n"
     ]
    }
   ],
   "source": [
    "data=weburl.read()\n",
    "print(data)"
   ]
  },
  {
   "cell_type": "code",
   "execution_count": null,
   "metadata": {},
   "outputs": [],
   "source": []
  }
 ],
 "metadata": {
  "kernelspec": {
   "display_name": "Python 3",
   "language": "python",
   "name": "python3"
  },
  "language_info": {
   "codemirror_mode": {
    "name": "ipython",
    "version": 3
   },
   "file_extension": ".py",
   "mimetype": "text/x-python",
   "name": "python",
   "nbconvert_exporter": "python",
   "pygments_lexer": "ipython3",
   "version": "3.7.0"
  }
 },
 "nbformat": 4,
 "nbformat_minor": 2
}
