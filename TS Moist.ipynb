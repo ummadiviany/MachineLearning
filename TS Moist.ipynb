{
 "cells": [
  {
   "cell_type": "code",
   "execution_count": 1,
   "metadata": {},
   "outputs": [],
   "source": [
    "from pandas import Series"
   ]
  },
  {
   "cell_type": "code",
   "execution_count": 4,
   "metadata": {},
   "outputs": [
    {
     "name": "stderr",
     "output_type": "stream",
     "text": [
      "c:\\users\\lenovo\\appdata\\local\\programs\\python\\python37\\lib\\site-packages\\pandas\\core\\series.py:3727: FutureWarning: from_csv is deprecated. Please use read_csv(...) instead. Note that some of the default arguments are different, so please refer to the documentation for from_csv when changing your function calls\n",
      "  infer_datetime_format=infer_datetime_format)\n"
     ]
    }
   ],
   "source": [
    "field4=Series.from_csv('C:/Users/lenovo/Desktop/ML/4.csv',header=0)"
   ]
  },
  {
   "cell_type": "code",
   "execution_count": 5,
   "metadata": {},
   "outputs": [
    {
     "data": {
      "text/plain": [
       "created_at\n",
       "2018-09-26 01:25:00    31114.0\n",
       "2018-09-26 01:30:48    31115.0\n",
       "Name: entry_id, dtype: float64"
      ]
     },
     "execution_count": 5,
     "metadata": {},
     "output_type": "execute_result"
    }
   ],
   "source": [
    "field4.head(2)"
   ]
  },
  {
   "cell_type": "code",
   "execution_count": 6,
   "metadata": {},
   "outputs": [
    {
     "data": {
      "text/plain": [
       "created_at\n",
       "2018-09-26 01:25:00    31114.0\n",
       "2018-09-26 01:30:48    31115.0\n",
       "2018-09-26 01:36:36    31116.0\n",
       "2018-09-26 01:42:25    31117.0\n",
       "2018-09-26 01:48:13    31118.0\n",
       "2018-09-26 01:54:02    31119.0\n",
       "2018-09-26 01:59:51    31120.0\n",
       "2018-09-26 02:05:39    31121.0\n",
       "2018-09-26 02:11:28    31122.0\n",
       "2018-09-26 02:17:16    31123.0\n",
       "2018-09-26 02:23:04    31124.0\n",
       "2018-09-26 02:28:53    31125.0\n",
       "2018-09-26 02:34:41    31126.0\n",
       "2018-09-26 02:40:29    31127.0\n",
       "2018-09-26 02:46:17    31128.0\n",
       "2018-09-26 02:52:05    31129.0\n",
       "2018-09-26 02:59:20    31130.0\n",
       "2018-09-26 03:02:56    31131.0\n",
       "2018-09-26 03:08:45    31132.0\n",
       "2018-09-26 03:11:06    31133.0\n",
       "2018-09-26 03:16:54    31134.0\n",
       "2018-09-26 03:20:55    31135.0\n",
       "2018-09-26 03:26:43    31136.0\n",
       "2018-09-26 03:32:29    31137.0\n",
       "2018-09-26 03:38:19    31138.0\n",
       "2018-09-26 03:44:07    31139.0\n",
       "2018-09-26 03:49:56    31140.0\n",
       "2018-09-26 03:55:48    31141.0\n",
       "2018-09-26 04:01:36    31142.0\n",
       "2018-09-26 04:07:24    31143.0\n",
       "                        ...   \n",
       "2018-09-26 09:15:18    31196.0\n",
       "2018-09-26 09:21:05    31197.0\n",
       "2018-09-26 09:26:53    31198.0\n",
       "2018-09-26 09:32:42    31199.0\n",
       "2018-09-26 09:38:31    31200.0\n",
       "2018-09-26 09:44:18    31201.0\n",
       "2018-09-26 09:50:06    31202.0\n",
       "2018-09-26 09:55:55    31203.0\n",
       "2018-09-26 10:01:43    31204.0\n",
       "2018-09-26 10:07:32    31205.0\n",
       "2018-09-26 10:13:20    31206.0\n",
       "2018-09-26 10:19:08    31207.0\n",
       "2018-09-26 10:24:56    31208.0\n",
       "2018-09-26 10:30:44    31209.0\n",
       "2018-09-26 10:36:33    31210.0\n",
       "2018-09-26 10:42:21    31211.0\n",
       "2018-09-26 10:48:09    31212.0\n",
       "2018-09-26 10:53:58    31213.0\n",
       "NaT                        NaN\n",
       "NaT                        NaN\n",
       "NaT                        NaN\n",
       "NaT                        NaN\n",
       "NaT                        NaN\n",
       "NaT                        NaN\n",
       "NaT                        NaN\n",
       "NaT                        NaN\n",
       "NaT                        NaN\n",
       "NaT                        NaN\n",
       "NaT                        NaN\n",
       "NaT                        NaN\n",
       "Name: entry_id, Length: 112, dtype: float64"
      ]
     },
     "execution_count": 6,
     "metadata": {},
     "output_type": "execute_result"
    }
   ],
   "source": [
    "field4"
   ]
  },
  {
   "cell_type": "code",
   "execution_count": 7,
   "metadata": {},
   "outputs": [
    {
     "name": "stdout",
     "output_type": "stream",
     "text": [
      "58.79\n"
     ]
    }
   ],
   "source": [
    "import pandas as pd\n",
    "import matplotlib.pyplot as plt\n",
    "url = 'https://thingspeak.com/channels/539123/feed.csv'\n",
    "data=pd.read_csv(url)\n",
    "f4data=data['field4']\n",
    "print(f4data[5])"
   ]
  },
  {
   "cell_type": "code",
   "execution_count": 8,
   "metadata": {},
   "outputs": [
    {
     "name": "stdout",
     "output_type": "stream",
     "text": [
      "min:   58.69\n",
      "max:   99.22\n"
     ]
    },
    {
     "data": {
      "image/png": "[encoded data removed]",
      "text/plain": [
       "<Figure size 432x288 with 1 Axes>"
      ]
     },
     "metadata": {
      "needs_background": "light"
     },
     "output_type": "display_data"
    }
   ],
   "source": [
    "#print(data['field4'][100:])\n",
    "print('min:   '+str(min(data['field4'][:])))\n",
    "print('max:   '+str(max(data['field4'][:])))\n",
    "plt.figure()\n",
    "#plt.plot(data['Open'][0:20])\n",
    "plt.plot(data['field4'][:])\n",
    "#plt.xlabel('days ago')\n",
    "#plt.ylabel('price')\n",
    "plt.show()"
   ]
  },
  {
   "cell_type": "code",
   "execution_count": null,
   "metadata": {},
   "outputs": [],
   "source": []
  },
  {
   "cell_type": "code",
   "execution_count": null,
   "metadata": {},
   "outputs": [],
   "source": []
  }
 ],
 "metadata": {
  "kernelspec": {
   "display_name": "Python 3",
   "language": "python",
   "name": "python3"
  },
  "language_info": {
   "codemirror_mode": {
    "name": "ipython",
    "version": 3
   },
   "file_extension": ".py",
   "mimetype": "text/x-python",
   "name": "python",
   "nbconvert_exporter": "python",
   "pygments_lexer": "ipython3",
   "version": "3.7.0"
  }
 },
 "nbformat": 4,
 "nbformat_minor": 2
}
